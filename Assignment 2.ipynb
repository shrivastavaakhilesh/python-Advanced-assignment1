{
 "cells": [
  {
   "cell_type": "markdown",
   "id": "8ebc2882",
   "metadata": {},
   "source": [
    "Q1. What is the relationship between classes and modules?\n",
    "\n",
    "\n",
    "Ans1: A Python Class is like a blueprint or outline to create an new object whereas modules are simply .py extension containing python code that can be imported inside another python program. So, we can consider a module to be same as python file contains a set of classes or functions."
   ]
  },
  {
   "cell_type": "markdown",
   "id": "5810da80",
   "metadata": {},
   "source": [
    "Q2. How do you make instance and classes?\n",
    "\n",
    "Ans2. For creating a class we use class keyword followed by class name and semicolon. For creating an instance , we call the class by its name and pass the argument which is init method accepts. For example:\n",
    "\n",
    "class iNeuron:\n",
    "\n",
    "def __init__(self,course,name):\n",
    "    self.course=course\n",
    "    self.name=name\n",
    "stud=iNeuron('FSDS','Akhilesh')\n",
    "\n",
    "Here iNeuron is the \"class\" and stud is the \"instance\" of class iNeuron with arguments FSDS,Akhilesh."
   ]
  },
  {
   "cell_type": "markdown",
   "id": "fa8ef328",
   "metadata": {},
   "source": [
    "Q3. Where and how class attributes created?\n",
    "\n",
    "Ans3. Class attributes are created on the top of the class defination outside all methods and will be shared by all instances of the class\n",
    "\n",
    "For Example: class iNeuron:\n",
    "\n",
    "course_type = JobGuarantee # this is a class attribute\n",
    "\n",
    "def __init__(self,course,name):\n",
    "    self.course=course  \n",
    "    self.name=name"
   ]
  },
  {
   "cell_type": "markdown",
   "id": "6914e2eb",
   "metadata": {},
   "source": [
    "Q4.Where and how are instance attributes created?\n",
    "\n",
    "\n",
    "\n",
    "Ans4: Instances attributes are passed to the class when an object of the class is created. Unlike class attributes, instance attributes are not shared by all objects of the classs. Instead each object maintains its own copy of instance attributes at object level whereas incase of class attributes, all instances of class refer to a single copy. Usually instance attributes are defined within the init method of class.\n",
    "\n",
    "Example: In the below sample code we are creating a class Car with instance varaibles color, price, engine, which will be provided when an instance of class Car is created.\n",
    "\n",
    "class Car: def init(self,color,price,engine): self.color = color # All this are instance attributes self.price = price self.engine = engine\n",
    "\n",
    "nexon_ev = Car('Indigo Blue', 1400000, 'electric') safari = Car('Pearl White',2100000, 'petrol') nexon_ev, safari are both the instances of class Car with different instance variables."
   ]
  },
  {
   "cell_type": "markdown",
   "id": "330620f1",
   "metadata": {},
   "source": [
    "Q5. What does the term \"self\" in a Python class mean?\n",
    "\n",
    "\n",
    "\n",
    "\n",
    "Ans: self represents the instance of the class (it represents the object itself). By using the “self” keyword we can access the attributes and methods of the class with in the class in python. It binds the attributes with the given arguments."
   ]
  },
  {
   "cell_type": "markdown",
   "id": "8fd8e377",
   "metadata": {},
   "source": [
    "Q6.How does a Python class handle operator overloading?\n",
    "\n",
    "**Ans: Python Classes handle operator overloading by using special methods called Magic methods. These special methods usually begin and end with __ (double underscore) Example: Magic methods for basic arithmetic operators are:\n",
    "\n",
    "-> add()\n",
    "-> sub()\n",
    "-> mul()\n",
    "/ -> div()**"
   ]
  },
  {
   "cell_type": "markdown",
   "id": "b62a8578",
   "metadata": {},
   "source": [
    "Q7. When do you consider allowing operator overloading of your classes?\n",
    "\n",
    "Ans: We consider allowing operator overloading when we want to have different meaning for the same operator. For example operator + is used to add two integers as well as join two strings and merge two lists. It is achievable because ‘+’ operator is overloaded by int class and str class."
   ]
  },
  {
   "cell_type": "code",
   "execution_count": 7,
   "id": "27bda81c",
   "metadata": {},
   "outputs": [
    {
     "name": "stdout",
     "output_type": "stream",
     "text": [
      "3\n",
      "AkhileshShrivastava\n",
      "12\n",
      "AkhileshAkhileshAkhileshAkhilesh\n"
     ]
    }
   ],
   "source": [
    "# Python program to show use of\n",
    "# + operator for different purposes.\n",
    " \n",
    "print(1 + 2)\n",
    " \n",
    "# concatenate two strings\n",
    "print(\"Akhilesh\"+\"Shrivastava\")\n",
    " \n",
    "# Product two numbers\n",
    "print(3 * 4)\n",
    " \n",
    "# Repeat the String\n",
    "print(\"Akhilesh\"*4)"
   ]
  },
  {
   "cell_type": "markdown",
   "id": "2d587543",
   "metadata": {},
   "source": [
    "Q8. What is the most popular form of operator overloading?\n",
    "\n",
    "Ans: The most popular form of operator overloading in python is by special methods called Magic methods. It usually begins and ends with double underscore ."
   ]
  },
  {
   "cell_type": "markdown",
   "id": "345794a8",
   "metadata": {},
   "source": [
    "Q9. What are the two most important concepts to grasp in order to comprehend Python OOP code?\n",
    "\n",
    "Ans: Classes and objects are the two most important concepts to grasp in order to comprehend python OOP code as more formally objects are entities that represent instances of general abstract concept called class.\n",
    "\n",
    "Along with classes and objects the important concepts to grasp are:\n",
    "\n",
    "Inheritence Abstraction Polymorphism Encapsulation."
   ]
  }
 ],
 "metadata": {
  "kernelspec": {
   "display_name": "Python 3 (ipykernel)",
   "language": "python",
   "name": "python3"
  },
  "language_info": {
   "codemirror_mode": {
    "name": "ipython",
    "version": 3
   },
   "file_extension": ".py",
   "mimetype": "text/x-python",
   "name": "python",
   "nbconvert_exporter": "python",
   "pygments_lexer": "ipython3",
   "version": "3.9.7"
  }
 },
 "nbformat": 4,
 "nbformat_minor": 5
}
