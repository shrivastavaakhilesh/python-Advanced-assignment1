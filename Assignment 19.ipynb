{
 "cells": [
  {
   "cell_type": "markdown",
   "id": "00bc0a04",
   "metadata": {},
   "source": [
    "Q1. Define the relationship between a class and its instances. Is it a one-to-one or a one-to-many partnership, for example?\n",
    "\n",
    "ANS. Relationship between a class and its instances is a one to many partnership. Object is a physical entity or real word entity. An object occupies space in memory. Example:-banana,chair,pen etc are objects. Class is a logical entity which does not exist in real world. Or we can say that class is a blueprint to create objects of similiar types. A class does not take space in memory. Examples:-fruits,furniture,vehicles etc."
   ]
  },
  {
   "cell_type": "markdown",
   "id": "0f51d4b1",
   "metadata": {},
   "source": [
    "Q2. What kind of data is held only in an instance?\n",
    "\n",
    "Ans: Instance objects contains the Instance variables which are specific to that specific Instance object."
   ]
  },
  {
   "cell_type": "markdown",
   "id": "745661ec",
   "metadata": {},
   "source": [
    "Q3. What kind of knowledge is stored in a class?\n",
    "\n",
    "\n",
    "Ans: Class creates a user-defined data structure, which holds its own data members and member functions, which can be accessed and used by creating an instance of that class. A class is like a blueprint for an object. Class is a logical entity which does not exist in real world Or we can say that class is a blueprint to create objects of similiar types. A class does not take space in memory. Examples:-fruits,furniture,vehicles etc."
   ]
  },
  {
   "cell_type": "markdown",
   "id": "9fab44b0",
   "metadata": {},
   "source": [
    "Q4. What exactly is a method, and how is it different from a regular function?\n",
    "\n",
    "\n",
    "Ans: The methods with a class can be used to access the insatnce variables of its instance. So,the object's state can be modified by its method. Function can't access the attributes of an instance of a class or can't modify the state of the object. A function is independent, whereas a method is a function linked with an object. Explicit data is passed on to a function, whereas a method completely passes the object on which it was called in the program. A method is Object-oriented programming while a function has standalone functionality"
   ]
  },
  {
   "cell_type": "markdown",
   "id": "f90b4523",
   "metadata": {},
   "source": [
    "Q5. Is inheritance supported in Python, and if so, what is the syntax?\n",
    "\n",
    "\n",
    "Ans: Yes,Python supports inheritance. The Types of Inheritence Supported by Python are:\n",
    "\n",
    "Simple Inheritence\n",
    "\n",
    "Multiple Inheritence\n",
    "\n",
    "Multilevel lInheritence\n",
    "\n",
    "Hybrid Inheritence\n",
    "\n",
    "Hierracial Inheritence"
   ]
  },
  {
   "cell_type": "markdown",
   "id": "349f4105",
   "metadata": {},
   "source": [
    "Q6. How much encapsulation (making instance or class variables private) does Python support?\n",
    "\n",
    "\n",
    "Ans: Encapsulation describes the idea of wrapping data and the methods that work on data within one unit. This puts restrictions on accessing variables and methods directly and can prevent the accidental modification of data. To prevent accidental change, an objects variable can only be changed by an objects method."
   ]
  },
  {
   "cell_type": "markdown",
   "id": "23eb1443",
   "metadata": {},
   "source": [
    "Q7. How do you distinguish between a class variable and an instance variable?\n",
    "\n",
    "Ans: The Class Attribute is available to all the instance objects of that class whereas Instance Attributes are accessible only to the object or Instance of that class.A single copy of Class attributes is maintained by pvm at the class level Whereas different copies of instance attributes are maintained by pvm at objects/instance level."
   ]
  },
  {
   "cell_type": "markdown",
   "id": "f401b953",
   "metadata": {},
   "source": [
    "Q8. When, if ever, can self be included in a class's method definitions?\n",
    "\n",
    "Ans: Yes, self can be included in class method definitions to access the instance variables inside class methods."
   ]
  },
  {
   "cell_type": "markdown",
   "id": "cb07d6ce",
   "metadata": {},
   "source": [
    "Q9. What is the difference between the add and the radd methods ?\n",
    "\n",
    "Ans: Entering radd Python will first try add(), and if that returns Not Implemented Python will check if the right-hand operand implements radd, and if it does, it will call radd() rather than raising a TypeError. The expression a+b is internally translated to the method call a.add(b). But if a and b are of different types, it is possible that a's implementation of addition cannot deal with objects of b's type (or maybe a does not have a add method, at all). So, if a.add(b) fails, Python tries b.radd(a) instead, to see if b's implementation can deal with objects of a's type."
   ]
  },
  {
   "cell_type": "markdown",
   "id": "8e794239",
   "metadata": {},
   "source": [
    "Q10. When is it necessary to use a reflection method? When do you not need it, even though you support the operation in question?\n",
    "\n",
    "Ans: Reflection refers to the ability for code to be able to examine attributes about objects that might be passed as parameters to a function. For example, if we write type(obj) then Python will return an object which represents the type of obj. Using reflection, we can write one recursive reverse function that will work for strings, lists, and any other sequence that supports slicing and concatenation. If an obj is a reference to a string, then Python will return the str type object. Further, if we write str() we get a string which is the empty string. In other words, writing str() is the same thing as writing “”. Likewise, writing list() is the same thing as writing []."
   ]
  },
  {
   "cell_type": "markdown",
   "id": "d513a221",
   "metadata": {},
   "source": [
    "Q11. What is the iadd method called?\n",
    "\n",
    "Ans: iadd method is called when we use implementation like a+=b which is a.iadd(b)"
   ]
  },
  {
   "cell_type": "markdown",
   "id": "9f468d35",
   "metadata": {},
   "source": [
    "Q12. Is the _ init _ method inherited by subclasses? What do you do if you need to customize its behavior within a subclass ?\n",
    "\n",
    "Ans: Yes, init method will be inherited by subclasses. If we want to customize its behaviour within a subclass, we can use super() method."
   ]
  }
 ],
 "metadata": {
  "kernelspec": {
   "display_name": "Python 3 (ipykernel)",
   "language": "python",
   "name": "python3"
  },
  "language_info": {
   "codemirror_mode": {
    "name": "ipython",
    "version": 3
   },
   "file_extension": ".py",
   "mimetype": "text/x-python",
   "name": "python",
   "nbconvert_exporter": "python",
   "pygments_lexer": "ipython3",
   "version": "3.9.7"
  }
 },
 "nbformat": 4,
 "nbformat_minor": 5
}
